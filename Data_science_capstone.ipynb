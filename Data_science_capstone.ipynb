{
 "cells": [
  {
   "cell_type": "markdown",
   "metadata": {},
   "source": [
    "# Capstone Project - Road Accident Severity Prediction"
   ]
  },
  {
   "cell_type": "markdown",
   "metadata": {},
   "source": [
    "## Introduction: Business Understanding"
   ]
  },
  {
   "cell_type": "markdown",
   "metadata": {},
   "source": [
    "Road accidents lead to fatalities and economic losses. Thus, <b>preventing loss of life and property</b> is a topic of concern. <br>\n",
    "\n",
    "The Seattle government can deploy a system that can alert drivers, health system, and police to remind them to practice caution and alertness in case of an incident. As a step towards this solution I will be building a model than will <b>predict the severity of an accident.</b><br> \n",
    "\n",
    "This model can be the <b>driving mechanism</b> that could <b>warn people</b>, given the weather and the road conditions about the <b>possibility of a car accident and how severe</b> it would be, so that they would <b>drive more carefully or even change their travel</b> if possible. <br>\n",
    "\n",
    "In accident severity modeling, the <b>input vectors</b> are the characteristics of the accident, such as <b>driver behavior and attributes of vehicle, highway and environment characteristics</b> while the <b>output vector</b> is the corresponding <b>class of accident severity.</b><br>\n",
    "\n",
    "By recognizing the <b>key factors that influence accident severity</b>, the solution may be of great utility to various <b>Government Departments/Authorities like Police, R&B and Transport</b> from public policy point of view. <br>\n",
    "\n",
    "The results of analysis and modeling can be used by these Departments to take appropriate measures to <b>reduce accident impact</b> and thereby <b>improve traffic safety</b>. It is also useful to the Insurers in terms of reduced claims and better underwriting as well as rate making."
   ]
  },
  {
   "cell_type": "markdown",
   "metadata": {},
   "source": [
    "## Data"
   ]
  },
  {
   "cell_type": "markdown",
   "metadata": {},
   "source": [
    "These traffic records were collected by the <b>SPD (Seattle Police Department).</b> <br>\n",
    "The time-frame of this data is from <b>2004 to present.</b><br>\n",
    "The data consists of <b>37 attributes and 194,673 collision records</b>. <br>\n",
    "The dependent variable, <b>“SEVERITYCODE”</b>, contains numbers that correspond to different <b>levels of severity</b> caused by an accident from 0 to 4.\n",
    "\n",
    "<b>Severity codes are as follows:\n",
    "- 0: Little to no Probability (Clear Conditions)\n",
    "- 1: Very Low Probability — Chance or Property Damage\n",
    "- 2: Low Probability — Chance of Injury\n",
    "- 3: Mild Probability — Chance of Serious Injury\n",
    "- 4: High Probability — Chance of Fatality</b>\n",
    "Following is a table of all the attributes along with their data types, variable length and a description for understanding.<br> This Meta-data is provided by the <b>SDOT Traffic Management Division.</b>\n",
    "\n",
    "|Attribute          |Data type, length| Description                                                 |\n",
    "|:------------------|:----------------|:------------------------------------------------------------|\n",
    "|LOCATION           | Text, 255       |Description of the general location of the collision         | \n",
    "|EXCEPTRSNCODE      | Text, 10        |                                                             |\n",
    "|EXCEPTRSNDESC      | Text, 300       |                                                             |\n",
    "|SEVERITYCODE       | Text, 100       |A code that corresponds to the severity of the collision:\n",
    "|                   |                 |3—fatality, 2b—serious injury, 2—injury, 1—prop damage,0—unknown|\n",
    "|SEVERITYDESC       |Text             |A detailed description of the severity of the collision|\n",
    "|COLLISIONTYPE      |Text, 300        |Collision type|\n",
    "|PERSONCOUNT        |Double           |The total number of people involved in the collision|\n",
    "|PEDCOUNT           |Double           |The number of pedestrians involved in the collision. |\n",
    "|PEDCYLCOUNT        |Double           |The number of bicycles involved in the collision.|\n",
    "|VEHCOUNT           |Double           |The number of vehicles involved in the collision.|\n",
    "|INJURIES           |Double           |The number of total injuries in the collision.|\n",
    "|SERIOUSINJURIES    |Double           |The number of serious injuries in the collision.|\n",
    "|FATALITIES         |Double           |The number of fatalities in the collision.|\n",
    "|INCDATE            |Date             |The date of the incident.|\n",
    "|INCDTTM            |Text, 30         |The date and time of the incident.|\n",
    "|JUNCTIONTYPE       |Text, 300        |Category of junction at which collision took place|\n",
    "|SDOT_COLCODE       |Text, 10         |A code given to the collision by SDOT.|\n",
    "|SDOT_COLDESC       |Text, 300        |A description of the collision corresponding to the collision code.|\n",
    "|INATTENTIONIND     |Text, 1          |Whether or not collision was due to inattention.(Y/N)|\n",
    "|UNDERINFL          |Text, 10         |Whether or not a driver involved was under the influence of drugs or alcohol.| \n",
    "|WEATHER            |Text, 300        |A description of the weather conditions during the time of the collision.|\n",
    "|ROADCOND           |Text, 300        |The condition of the road during the collision.|\n",
    "|LIGHTCOND          |Text, 300        |The light conditions during the collision.|\n",
    "|PEDROWNOTGRNT      |Text, 1          |Whether or not the pedestrian right of way was not granted. (Y/N)|\n",
    "|SDOTCOLNUM         |Text, 10         |A number given to the collision by SDOT.|\n",
    "|SPEEDING           |Text, 1          |Whether or not speeding was a factor in the collision. (Y/N)|\n",
    "|ST_COLCODE         |Text, 10         |A code provided by the state that describes the collision|\n",
    "|ST_COLDESC         |Text, 300        |A description that corresponds to the state’s coding designation.|\n",
    "|SEGLANEKEY         |Long             |A key for the lane segment in which the collision occurred.|\n",
    "|CROSSWALKKEY       |Long             |A key for the crosswalk at which the collision occurred.|\n",
    "|HITPARKEDCAR       |Text, 1          |Whether or not the collision involved hitting a parked car. (Y/N) |\n",
    "\n",
    "<H4> As observed in the meta-data the severity code has 4 classes. Thus, this is a multi-class regression problem.<br>\n",
    "I intend to build a machine learning model to predict the severity and classify it into the multi-class severity codes for public undertanding </H4>"
   ]
  },
  {
   "cell_type": "code",
   "execution_count": null,
   "metadata": {},
   "outputs": [],
   "source": []
  }
 ],
 "metadata": {
  "kernelspec": {
   "display_name": "Python 3",
   "language": "python",
   "name": "python3"
  },
  "language_info": {
   "codemirror_mode": {
    "name": "ipython",
    "version": 3
   },
   "file_extension": ".py",
   "mimetype": "text/x-python",
   "name": "python",
   "nbconvert_exporter": "python",
   "pygments_lexer": "ipython3",
   "version": "3.7.4"
  }
 },
 "nbformat": 4,
 "nbformat_minor": 2
}
