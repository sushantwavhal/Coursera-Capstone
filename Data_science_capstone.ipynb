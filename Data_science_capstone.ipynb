{
 "cells": [
  {
   "cell_type": "markdown",
   "metadata": {},
   "source": [
    "# Capstone Project - Road Accident Severity Prediction"
   ]
  },
  {
   "cell_type": "markdown",
   "metadata": {},
   "source": [
    "## Introduction: Business Understanding"
   ]
  },
  {
   "cell_type": "markdown",
   "metadata": {},
   "source": [
    "Road accidents lead to fatalities and economic losses. Thus, <b>preventing loss of life and property</b> is a topic of concern. <br>\n",
    "\n",
    "The Seattle government can deploy a system that can alert drivers, health system, and police to remind them to practice caution and alertness in case of an incident. As a step towards this solution I will be building a model than will <b>predict the severity of an accident.</b><br> \n",
    "\n",
    "This model can be the <b>driving mechanism</b> that could <b>warn people</b>, given the weather and the road conditions about the <b>possibility of a car accident and how severe</b> it would be, so that they would <b>drive more carefully or even change their travel</b> if possible. <br>\n",
    "\n",
    "In accident severity modeling, the <b>input vectors</b> are the characteristics of the accident, such as <b>driver behavior and attributes of vehicle, highway and environment characteristics</b> while the <b>output vector</b> is the corresponding <b>class of accident severity.</b><br>\n",
    "\n",
    "By recognizing the <b>key factors that influence accident severity</b>, the solution may be of great utility to various <b>Government Departments/Authorities like Police, R&B and Transport</b> from public policy point of view. <br>\n",
    "\n",
    "The results of analysis and modeling can be used by these Departments to take appropriate measures to <b>reduce accident impact</b> and thereby <b>improve traffic safety</b>. It is also useful to the Insurers in terms of reduced claims and better underwriting as well as rate making."
   ]
  },
  {
   "cell_type": "markdown",
   "metadata": {},
   "source": [
    "## Data"
   ]
  },
  {
   "cell_type": "markdown",
   "metadata": {},
   "source": [
    "These traffic records were collected by the <b>SPD (Seattle Police Department).</b> <br>\n",
    "The time-frame of this data is from <b>2004 to present.</b><br>\n",
    "The data consists of <b>37 attributes and 194,673 collision records</b>. <br>\n",
    "The dependent variable, <b>“SEVERITYCODE”</b>, contains numbers that correspond to different <b>levels of severity</b> caused by an accident from 0 to 4.\n",
    "\n",
    "<b>Severity codes are as follows:\n",
    "- 0: Little to no Probability (Clear Conditions)\n",
    "- 1: Very Low Probability — Chance or Property Damage\n",
    "- 2: Low Probability — Chance of Injury\n",
    "- 3: Mild Probability — Chance of Serious Injury\n",
    "- 4: High Probability — Chance of Fatality</b>\n",
    "Following is a table of all the attributes along with their data types, variable length and a description for understanding.<br> This Meta-data is provided by the <b>SDOT Traffic Management Division.</b>\n",
    "\n",
    "|Attribute          |Data type, length| Description                                                 |\n",
    "|:------------------|:----------------|:------------------------------------------------------------|\n",
    "|LOCATION           | Text, 255       |Description of the general location of the collision         | \n",
    "|EXCEPTRSNCODE      | Text, 10        |                                                             |\n",
    "|EXCEPTRSNDESC      | Text, 300       |                                                             |\n",
    "|SEVERITYCODE       | Text, 100       |A code that corresponds to the severity of the collision:\n",
    "|                   |                 |3—fatality, 2b—serious injury, 2—injury, 1—prop damage,0—unknown|\n",
    "|SEVERITYDESC       |Text             |A detailed description of the severity of the collision|\n",
    "|COLLISIONTYPE      |Text, 300        |Collision type|\n",
    "|PERSONCOUNT        |Double           |The total number of people involved in the collision|\n",
    "|PEDCOUNT           |Double           |The number of pedestrians involved in the collision. |\n",
    "|PEDCYLCOUNT        |Double           |The number of bicycles involved in the collision.|\n",
    "|VEHCOUNT           |Double           |The number of vehicles involved in the collision.|\n",
    "|INJURIES           |Double           |The number of total injuries in the collision.|\n",
    "|SERIOUSINJURIES    |Double           |The number of serious injuries in the collision.|\n",
    "|FATALITIES         |Double           |The number of fatalities in the collision.|\n",
    "|INCDATE            |Date             |The date of the incident.|\n",
    "|INCDTTM            |Text, 30         |The date and time of the incident.|\n",
    "|JUNCTIONTYPE       |Text, 300        |Category of junction at which collision took place|\n",
    "|SDOT_COLCODE       |Text, 10         |A code given to the collision by SDOT.|\n",
    "|SDOT_COLDESC       |Text, 300        |A description of the collision corresponding to the collision code.|\n",
    "|INATTENTIONIND     |Text, 1          |Whether or not collision was due to inattention.(Y/N)|\n",
    "|UNDERINFL          |Text, 10         |Whether or not a driver involved was under the influence of drugs or alcohol.| \n",
    "|WEATHER            |Text, 300        |A description of the weather conditions during the time of the collision.|\n",
    "|ROADCOND           |Text, 300        |The condition of the road during the collision.|\n",
    "|LIGHTCOND          |Text, 300        |The light conditions during the collision.|\n",
    "|PEDROWNOTGRNT      |Text, 1          |Whether or not the pedestrian right of way was not granted. (Y/N)|\n",
    "|SDOTCOLNUM         |Text, 10         |A number given to the collision by SDOT.|\n",
    "|SPEEDING           |Text, 1          |Whether or not speeding was a factor in the collision. (Y/N)|\n",
    "|ST_COLCODE         |Text, 10         |A code provided by the state that describes the collision|\n",
    "|ST_COLDESC         |Text, 300        |A description that corresponds to the state’s coding designation.|\n",
    "|SEGLANEKEY         |Long             |A key for the lane segment in which the collision occurred.|\n",
    "|CROSSWALKKEY       |Long             |A key for the crosswalk at which the collision occurred.|\n",
    "|HITPARKEDCAR       |Text, 1          |Whether or not the collision involved hitting a parked car. (Y/N) |\n",
    "\n",
    "<H4> As observed in the meta-data the severity code has 4 classes. Thus, this is a multi-class regression problem.<br>\n",
    "I intend to build a machine learning model to predict the severity and classify it into the multi-class severity codes for public undertanding </H4>"
   ]
  },
  {
   "cell_type": "markdown",
   "metadata": {},
   "source": [
    "### Importing Libraries"
   ]
  },
  {
   "cell_type": "code",
   "execution_count": 1,
   "metadata": {},
   "outputs": [],
   "source": [
    "import pandas as pd\n",
    "import numpy as np\n",
    "import matplotlib.pyplot as plt\n",
    "import seaborn as sns\n",
    "import folium\n",
    "from folium.plugins import MarkerCluster\n",
    "import warnings\n",
    "warnings.filterwarnings(\"ignore\")\n",
    "%matplotlib inline"
   ]
  },
  {
   "cell_type": "markdown",
   "metadata": {},
   "source": [
    "### Data Loading"
   ]
  },
  {
   "cell_type": "code",
   "execution_count": 2,
   "metadata": {},
   "outputs": [],
   "source": [
    "collisions_df = pd.read_csv('Collisions.csv')"
   ]
  },
  {
   "cell_type": "code",
   "execution_count": 3,
   "metadata": {},
   "outputs": [
    {
     "data": {
      "text/html": [
       "<div>\n",
       "<style scoped>\n",
       "    .dataframe tbody tr th:only-of-type {\n",
       "        vertical-align: middle;\n",
       "    }\n",
       "\n",
       "    .dataframe tbody tr th {\n",
       "        vertical-align: top;\n",
       "    }\n",
       "\n",
       "    .dataframe thead th {\n",
       "        text-align: right;\n",
       "    }\n",
       "</style>\n",
       "<table border=\"1\" class=\"dataframe\">\n",
       "  <thead>\n",
       "    <tr style=\"text-align: right;\">\n",
       "      <th></th>\n",
       "      <th>X</th>\n",
       "      <th>Y</th>\n",
       "      <th>OBJECTID</th>\n",
       "      <th>INCKEY</th>\n",
       "      <th>COLDETKEY</th>\n",
       "      <th>REPORTNO</th>\n",
       "      <th>STATUS</th>\n",
       "      <th>ADDRTYPE</th>\n",
       "      <th>INTKEY</th>\n",
       "      <th>LOCATION</th>\n",
       "      <th>...</th>\n",
       "      <th>ROADCOND</th>\n",
       "      <th>LIGHTCOND</th>\n",
       "      <th>PEDROWNOTGRNT</th>\n",
       "      <th>SDOTCOLNUM</th>\n",
       "      <th>SPEEDING</th>\n",
       "      <th>ST_COLCODE</th>\n",
       "      <th>ST_COLDESC</th>\n",
       "      <th>SEGLANEKEY</th>\n",
       "      <th>CROSSWALKKEY</th>\n",
       "      <th>HITPARKEDCAR</th>\n",
       "    </tr>\n",
       "  </thead>\n",
       "  <tbody>\n",
       "    <tr>\n",
       "      <td>0</td>\n",
       "      <td>-122.320757</td>\n",
       "      <td>47.609408</td>\n",
       "      <td>1</td>\n",
       "      <td>328476</td>\n",
       "      <td>329976</td>\n",
       "      <td>EA08706</td>\n",
       "      <td>Matched</td>\n",
       "      <td>Block</td>\n",
       "      <td>NaN</td>\n",
       "      <td>BROADWAY BETWEEN E COLUMBIA ST AND BOYLSTON AVE</td>\n",
       "      <td>...</td>\n",
       "      <td>Wet</td>\n",
       "      <td>Dark - Street Lights On</td>\n",
       "      <td>NaN</td>\n",
       "      <td>NaN</td>\n",
       "      <td>NaN</td>\n",
       "      <td>11</td>\n",
       "      <td>From same direction - both going straight - bo...</td>\n",
       "      <td>0</td>\n",
       "      <td>0</td>\n",
       "      <td>N</td>\n",
       "    </tr>\n",
       "    <tr>\n",
       "      <td>1</td>\n",
       "      <td>-122.319561</td>\n",
       "      <td>47.662221</td>\n",
       "      <td>2</td>\n",
       "      <td>328142</td>\n",
       "      <td>329642</td>\n",
       "      <td>EA06882</td>\n",
       "      <td>Matched</td>\n",
       "      <td>Block</td>\n",
       "      <td>NaN</td>\n",
       "      <td>8TH AVE NE BETWEEN NE 45TH E ST AND NE 47TH ST</td>\n",
       "      <td>...</td>\n",
       "      <td>Dry</td>\n",
       "      <td>Daylight</td>\n",
       "      <td>NaN</td>\n",
       "      <td>NaN</td>\n",
       "      <td>NaN</td>\n",
       "      <td>32</td>\n",
       "      <td>One parked--one moving</td>\n",
       "      <td>0</td>\n",
       "      <td>0</td>\n",
       "      <td>Y</td>\n",
       "    </tr>\n",
       "    <tr>\n",
       "      <td>2</td>\n",
       "      <td>-122.327525</td>\n",
       "      <td>47.604393</td>\n",
       "      <td>3</td>\n",
       "      <td>20700</td>\n",
       "      <td>20700</td>\n",
       "      <td>1181833</td>\n",
       "      <td>Unmatched</td>\n",
       "      <td>Block</td>\n",
       "      <td>NaN</td>\n",
       "      <td>JAMES ST BETWEEN 6TH AVE AND 7TH AVE</td>\n",
       "      <td>...</td>\n",
       "      <td>NaN</td>\n",
       "      <td>NaN</td>\n",
       "      <td>NaN</td>\n",
       "      <td>4030032.0</td>\n",
       "      <td>NaN</td>\n",
       "      <td>NaN</td>\n",
       "      <td>NaN</td>\n",
       "      <td>0</td>\n",
       "      <td>0</td>\n",
       "      <td>N</td>\n",
       "    </tr>\n",
       "    <tr>\n",
       "      <td>3</td>\n",
       "      <td>-122.327525</td>\n",
       "      <td>47.708622</td>\n",
       "      <td>4</td>\n",
       "      <td>332126</td>\n",
       "      <td>333626</td>\n",
       "      <td>M16001640</td>\n",
       "      <td>Unmatched</td>\n",
       "      <td>Block</td>\n",
       "      <td>NaN</td>\n",
       "      <td>NE NORTHGATE WAY BETWEEN 1ST AVE NE AND NE NOR...</td>\n",
       "      <td>...</td>\n",
       "      <td>NaN</td>\n",
       "      <td>NaN</td>\n",
       "      <td>NaN</td>\n",
       "      <td>NaN</td>\n",
       "      <td>NaN</td>\n",
       "      <td></td>\n",
       "      <td>NaN</td>\n",
       "      <td>0</td>\n",
       "      <td>0</td>\n",
       "      <td>N</td>\n",
       "    </tr>\n",
       "    <tr>\n",
       "      <td>4</td>\n",
       "      <td>-122.292120</td>\n",
       "      <td>47.559009</td>\n",
       "      <td>5</td>\n",
       "      <td>328238</td>\n",
       "      <td>329738</td>\n",
       "      <td>3857118</td>\n",
       "      <td>Unmatched</td>\n",
       "      <td>Block</td>\n",
       "      <td>NaN</td>\n",
       "      <td>M L KING JR ER WAY S BETWEEN S ANGELINE ST AND...</td>\n",
       "      <td>...</td>\n",
       "      <td>NaN</td>\n",
       "      <td>NaN</td>\n",
       "      <td>NaN</td>\n",
       "      <td>NaN</td>\n",
       "      <td>NaN</td>\n",
       "      <td></td>\n",
       "      <td>NaN</td>\n",
       "      <td>0</td>\n",
       "      <td>0</td>\n",
       "      <td>N</td>\n",
       "    </tr>\n",
       "  </tbody>\n",
       "</table>\n",
       "<p>5 rows × 40 columns</p>\n",
       "</div>"
      ],
      "text/plain": [
       "            X          Y  OBJECTID  INCKEY  COLDETKEY   REPORTNO     STATUS  \\\n",
       "0 -122.320757  47.609408         1  328476     329976    EA08706    Matched   \n",
       "1 -122.319561  47.662221         2  328142     329642    EA06882    Matched   \n",
       "2 -122.327525  47.604393         3   20700      20700    1181833  Unmatched   \n",
       "3 -122.327525  47.708622         4  332126     333626  M16001640  Unmatched   \n",
       "4 -122.292120  47.559009         5  328238     329738    3857118  Unmatched   \n",
       "\n",
       "  ADDRTYPE  INTKEY                                           LOCATION  ...  \\\n",
       "0    Block     NaN    BROADWAY BETWEEN E COLUMBIA ST AND BOYLSTON AVE  ...   \n",
       "1    Block     NaN     8TH AVE NE BETWEEN NE 45TH E ST AND NE 47TH ST  ...   \n",
       "2    Block     NaN               JAMES ST BETWEEN 6TH AVE AND 7TH AVE  ...   \n",
       "3    Block     NaN  NE NORTHGATE WAY BETWEEN 1ST AVE NE AND NE NOR...  ...   \n",
       "4    Block     NaN  M L KING JR ER WAY S BETWEEN S ANGELINE ST AND...  ...   \n",
       "\n",
       "  ROADCOND                LIGHTCOND PEDROWNOTGRNT SDOTCOLNUM SPEEDING  \\\n",
       "0      Wet  Dark - Street Lights On           NaN        NaN      NaN   \n",
       "1      Dry                 Daylight           NaN        NaN      NaN   \n",
       "2      NaN                      NaN           NaN  4030032.0      NaN   \n",
       "3      NaN                      NaN           NaN        NaN      NaN   \n",
       "4      NaN                      NaN           NaN        NaN      NaN   \n",
       "\n",
       "   ST_COLCODE                                         ST_COLDESC  SEGLANEKEY  \\\n",
       "0          11  From same direction - both going straight - bo...           0   \n",
       "1          32                             One parked--one moving           0   \n",
       "2         NaN                                                NaN           0   \n",
       "3                                                            NaN           0   \n",
       "4                                                            NaN           0   \n",
       "\n",
       "   CROSSWALKKEY  HITPARKEDCAR  \n",
       "0             0             N  \n",
       "1             0             Y  \n",
       "2             0             N  \n",
       "3             0             N  \n",
       "4             0             N  \n",
       "\n",
       "[5 rows x 40 columns]"
      ]
     },
     "execution_count": 3,
     "metadata": {},
     "output_type": "execute_result"
    }
   ],
   "source": [
    "collisions_df.head()"
   ]
  },
  {
   "cell_type": "code",
   "execution_count": 4,
   "metadata": {},
   "outputs": [
    {
     "name": "stdout",
     "output_type": "stream",
     "text": [
      "<class 'pandas.core.frame.DataFrame'>\n",
      "RangeIndex: 221389 entries, 0 to 221388\n",
      "Data columns (total 40 columns):\n",
      "X                  213918 non-null float64\n",
      "Y                  213918 non-null float64\n",
      "OBJECTID           221389 non-null int64\n",
      "INCKEY             221389 non-null int64\n",
      "COLDETKEY          221389 non-null int64\n",
      "REPORTNO           221389 non-null object\n",
      "STATUS             221389 non-null object\n",
      "ADDRTYPE           217677 non-null object\n",
      "INTKEY             71884 non-null float64\n",
      "LOCATION           216801 non-null object\n",
      "EXCEPTRSNCODE      100986 non-null object\n",
      "EXCEPTRSNDESC      11779 non-null object\n",
      "SEVERITYCODE       221388 non-null object\n",
      "SEVERITYDESC       221389 non-null object\n",
      "COLLISIONTYPE      195159 non-null object\n",
      "PERSONCOUNT        221389 non-null int64\n",
      "PEDCOUNT           221389 non-null int64\n",
      "PEDCYLCOUNT        221389 non-null int64\n",
      "VEHCOUNT           221389 non-null int64\n",
      "INJURIES           221389 non-null int64\n",
      "SERIOUSINJURIES    221389 non-null int64\n",
      "FATALITIES         221389 non-null int64\n",
      "INCDATE            221389 non-null object\n",
      "INCDTTM            221389 non-null object\n",
      "JUNCTIONTYPE       209417 non-null object\n",
      "SDOT_COLCODE       221388 non-null float64\n",
      "SDOT_COLDESC       221388 non-null object\n",
      "INATTENTIONIND     30188 non-null object\n",
      "UNDERINFL          195179 non-null object\n",
      "WEATHER            194969 non-null object\n",
      "ROADCOND           195050 non-null object\n",
      "LIGHTCOND          194880 non-null object\n",
      "PEDROWNOTGRNT      5192 non-null object\n",
      "SDOTCOLNUM         127205 non-null float64\n",
      "SPEEDING           9928 non-null object\n",
      "ST_COLCODE         211976 non-null object\n",
      "ST_COLDESC         195159 non-null object\n",
      "SEGLANEKEY         221389 non-null int64\n",
      "CROSSWALKKEY       221389 non-null int64\n",
      "HITPARKEDCAR       221389 non-null object\n",
      "dtypes: float64(5), int64(12), object(23)\n",
      "memory usage: 67.6+ MB\n"
     ]
    }
   ],
   "source": [
    "collisions_df.info()"
   ]
  },
  {
   "cell_type": "markdown",
   "metadata": {},
   "source": [
    "### Cleaning the Dataset"
   ]
  },
  {
   "cell_type": "markdown",
   "metadata": {},
   "source": [
    "Let's examine the lattitudnal and logitudnal data"
   ]
  },
  {
   "cell_type": "code",
   "execution_count": 5,
   "metadata": {},
   "outputs": [
    {
     "name": "stdout",
     "output_type": "stream",
     "text": [
      "<class 'pandas.core.frame.DataFrame'>\n",
      "RangeIndex: 221389 entries, 0 to 221388\n",
      "Data columns (total 2 columns):\n",
      "X    213918 non-null float64\n",
      "Y    213918 non-null float64\n",
      "dtypes: float64(2)\n",
      "memory usage: 3.4 MB\n"
     ]
    }
   ],
   "source": [
    "collisions_df[['X','Y']].info()"
   ]
  },
  {
   "cell_type": "code",
   "execution_count": 6,
   "metadata": {},
   "outputs": [
    {
     "data": {
      "text/plain": [
       "X    7471\n",
       "Y    7471\n",
       "dtype: int64"
      ]
     },
     "execution_count": 6,
     "metadata": {},
     "output_type": "execute_result"
    }
   ],
   "source": [
    "collisions_df[['X','Y']].isna().sum()"
   ]
  },
  {
   "cell_type": "markdown",
   "metadata": {},
   "source": [
    "Dropping the rows having null values in the logitudnal and lattitudnal data columns"
   ]
  },
  {
   "cell_type": "code",
   "execution_count": 7,
   "metadata": {},
   "outputs": [],
   "source": [
    "collisions_df = collisions_df.dropna(axis=0, subset=['X','Y'])"
   ]
  },
  {
   "cell_type": "code",
   "execution_count": 8,
   "metadata": {},
   "outputs": [
    {
     "data": {
      "text/plain": [
       "X    0\n",
       "Y    0\n",
       "dtype: int64"
      ]
     },
     "execution_count": 8,
     "metadata": {},
     "output_type": "execute_result"
    }
   ],
   "source": [
    "collisions_df[['X','Y']].isna().sum()"
   ]
  },
  {
   "cell_type": "markdown",
   "metadata": {},
   "source": [
    "<H2>The data needs to pre-processed</H2>\n",
    "\n",
    "The collisions dataset has been sourced from the <b>Seattle Open GeoData Portal</b> and is updated weekly, thus a several unique identifiers and spatial features are present in the dataset which will be irrelevant in further statistical analysis and model building.<br>  \n",
    "\n",
    "Features like <b>OBJECTID, INCKEY, COLDETKEY, INTKEY and REPORTNO.</b> are the unique identifiers<br>\n",
    "\n",
    "Features like <b>EXCEPTRSNCODE, EXCEPTRSNDESC and LOCATION</b> won't be contributing to our dataset.<br> \n",
    "The LOCATION data will help us in populating the maps and getting the count in a particular area but the lattitudes and logitudes and already in place to serve that purpose.<br>\n",
    "\n",
    "Features like <b>INCDATE - Incident Date and INCDTTM - Incident Timestamp </b>, The timestamp column doesn't have consistent values. Most values do not contain the time. Let's maintain the incident date from INCDATE column<br>\n",
    "\n",
    "Features like <b>SDOT_COLCODE and SDOT_COLDESC</b> are redundant, <b>ST_COLCODE, ST_COLDESC, SDOT_COLNUM </b> are the repeated features which shouldn't be considered in further analysis <br>\n",
    "\n",
    "Feature like <b>COLLISIONTYPE</b> has some missing values, those can be filled by mapping the SDOT_COLDESC values, SDOT_COLDESC involves the collision description and can be used alongwith the SDOT_COLCODE to input null values.<br>\n",
    "\n",
    "Features like <b>JUNCTIONTYPE, WEATHER, ROADCOND, LIGHTCOND</b> contain null values, it would be best to drop these rows.<br>\n",
    "\n",
    "Features like <b>INATTENTIONIND, UNDERINFL, SPEEDING</b> are variables with binary values and has values input for only one class. Thus, we can induce the either value to account for all the blank cells. <br>\n",
    "\n",
    "Feature <b>PEDROWNOTGRNT</b> has 95% null values and considering it for model building would create bias, thus its safe to exclude it.\n",
    "\n",
    "Features like <b>SEGLANEKEY, CROSSWALKKEY, HITPARKEDCAR </b> should be examined, if they aren't correlated to the target variable then they should be excluded, it can be conceived as noise."
   ]
  },
  {
   "cell_type": "code",
   "execution_count": 9,
   "metadata": {},
   "outputs": [],
   "source": [
    "#The INCDATE column has the date and its has zeroes for time (00:00:00), \n",
    "#So we can just keep the date and convert it into a datetime "
   ]
  },
  {
   "cell_type": "code",
   "execution_count": 10,
   "metadata": {},
   "outputs": [],
   "source": [
    "collisions_df['INCDATE']= pd.to_datetime(collisions_df['INCDATE']) \n",
    "collisions_df['INCDATE'] = collisions_df['INCDATE'].dt.date"
   ]
  },
  {
   "cell_type": "code",
   "execution_count": 11,
   "metadata": {},
   "outputs": [],
   "source": [
    "# Filling the collision type missing values\n",
    "# Create a dictionary by zipping the Collision types and SDOT_Col codes and their description\n",
    "# Filling the missing values with the corresponding collision types"
   ]
  },
  {
   "cell_type": "code",
   "execution_count": 12,
   "metadata": {},
   "outputs": [],
   "source": [
    "collision_type = dict(zip(collisions_df.SDOT_COLCODE,collisions_df.COLLISIONTYPE))\n",
    "collision_sdot = dict(zip(collisions_df.SDOT_COLCODE,collisions_df.SDOT_COLDESC))"
   ]
  },
  {
   "cell_type": "code",
   "execution_count": 13,
   "metadata": {},
   "outputs": [],
   "source": [
    "collisions_df.COLLISIONTYPE = collisions_df.COLLISIONTYPE.fillna(collisions_df.SDOT_COLCODE.map(collision_type))"
   ]
  },
  {
   "cell_type": "code",
   "execution_count": 14,
   "metadata": {},
   "outputs": [
    {
     "data": {
      "text/plain": [
       "8797"
      ]
     },
     "execution_count": 14,
     "metadata": {},
     "output_type": "execute_result"
    }
   ],
   "source": [
    "collisions_df['COLLISIONTYPE'].isna().sum()"
   ]
  },
  {
   "cell_type": "code",
   "execution_count": 15,
   "metadata": {},
   "outputs": [],
   "source": [
    "coll_na = collisions_df.loc[collisions_df['COLLISIONTYPE'].isna(), 'SDOT_COLCODE']"
   ]
  },
  {
   "cell_type": "code",
   "execution_count": 16,
   "metadata": {},
   "outputs": [
    {
     "data": {
      "text/plain": [
       "0.0     8244\n",
       "12.0     322\n",
       "15.0     230\n",
       "Name: SDOT_COLCODE, dtype: int64"
      ]
     },
     "execution_count": 16,
     "metadata": {},
     "output_type": "execute_result"
    }
   ],
   "source": [
    "coll_na.value_counts()"
   ]
  },
  {
   "cell_type": "code",
   "execution_count": 17,
   "metadata": {},
   "outputs": [
    {
     "name": "stdout",
     "output_type": "stream",
     "text": [
      "['NOT ENOUGH INFORMATION / NOT APPLICABLE', 'MOTOR VEHICLE STRUCK MOTOR VEHICLE, RIGHT SIDE AT ANGLE', 'MOTOR VEHICLE STRUCK MOTOR VEHICLE, RIGHT SIDE SIDESWIPE']\n"
     ]
    }
   ],
   "source": [
    "codes = [0,12,15]\n",
    "descs = [collision_sdot[k] for k in codes if k in collision_sdot]\n",
    "print(descs)"
   ]
  },
  {
   "cell_type": "markdown",
   "metadata": {},
   "source": [
    "<b>Lets substitue 'COLLISIONTYPE' as 'Other' for 'SDOT_COLCODE' - 0, 'Angles' for 12 and 'Sideswipe' for 15</b>"
   ]
  },
  {
   "cell_type": "code",
   "execution_count": 18,
   "metadata": {},
   "outputs": [],
   "source": [
    "collisions_df.loc[collisions_df['SDOT_COLCODE'] == 0, 'COLLISIONTYPE'] = 'Other'\n",
    "collisions_df.loc[collisions_df['SDOT_COLCODE'] == 12, 'COLLISIONTYPE'] = 'Angles'\n",
    "collisions_df.loc[collisions_df['SDOT_COLCODE'] == 15, 'COLLISIONTYPE'] = 'Sideswipe'"
   ]
  },
  {
   "cell_type": "code",
   "execution_count": 19,
   "metadata": {},
   "outputs": [
    {
     "data": {
      "text/plain": [
       "0"
      ]
     },
     "execution_count": 19,
     "metadata": {},
     "output_type": "execute_result"
    }
   ],
   "source": [
    "collisions_df = collisions_df.dropna(axis=0, subset=['COLLISIONTYPE'])\n",
    "collisions_df['COLLISIONTYPE'].isna().sum()"
   ]
  },
  {
   "cell_type": "code",
   "execution_count": 20,
   "metadata": {},
   "outputs": [],
   "source": [
    "# Let us examine columns JUNCTIONTYPE, WEATHER, ROADCOND, LIGHTCOND"
   ]
  },
  {
   "cell_type": "code",
   "execution_count": 21,
   "metadata": {},
   "outputs": [
    {
     "data": {
      "text/plain": [
       "JUNCTIONTYPE     8189\n",
       "WEATHER         24198\n",
       "ROADCOND        24119\n",
       "LIGHTCOND       24285\n",
       "dtype: int64"
      ]
     },
     "execution_count": 21,
     "metadata": {},
     "output_type": "execute_result"
    }
   ],
   "source": [
    "collisions_df[['JUNCTIONTYPE', 'WEATHER', 'ROADCOND', 'LIGHTCOND']].isna().sum()"
   ]
  },
  {
   "cell_type": "markdown",
   "metadata": {},
   "source": [
    "<b>JUNCTIONTYPE</b> has 4% of its values missing <br>\n",
    "While <b>WEATHER, ROADCOND, LIGHTCOND</b> have almost 10% of their data missing. These numbers aren't very large and we make do with the remaining 90% of the data. <br> Drop the missing value rows from these features"
   ]
  },
  {
   "cell_type": "code",
   "execution_count": 22,
   "metadata": {},
   "outputs": [],
   "source": [
    "collisions_df = collisions_df.dropna(axis=0, subset=['JUNCTIONTYPE', 'WEATHER', 'ROADCOND', 'LIGHTCOND'])"
   ]
  },
  {
   "cell_type": "code",
   "execution_count": 23,
   "metadata": {},
   "outputs": [],
   "source": [
    "#Let's examine column INATTENTIONIND - Incident due to not paying attention on the road"
   ]
  },
  {
   "cell_type": "code",
   "execution_count": 24,
   "metadata": {},
   "outputs": [
    {
     "data": {
      "text/plain": [
       "Y    29164\n",
       "Name: INATTENTIONIND, dtype: int64"
      ]
     },
     "execution_count": 24,
     "metadata": {},
     "output_type": "execute_result"
    }
   ],
   "source": [
    "collisions_df['INATTENTIONIND'].value_counts()"
   ]
  },
  {
   "cell_type": "code",
   "execution_count": 25,
   "metadata": {},
   "outputs": [
    {
     "data": {
      "text/plain": [
       "156174"
      ]
     },
     "execution_count": 25,
     "metadata": {},
     "output_type": "execute_result"
    }
   ],
   "source": [
    "collisions_df['INATTENTIONIND'].isna().sum()"
   ]
  },
  {
   "cell_type": "code",
   "execution_count": 26,
   "metadata": {},
   "outputs": [],
   "source": [
    "#We will fill the missing places with zero and map value 1 for those values of Y"
   ]
  },
  {
   "cell_type": "code",
   "execution_count": 27,
   "metadata": {},
   "outputs": [],
   "source": [
    "collisions_df['INATTENTIONIND'] = collisions_df['INATTENTIONIND'].map({'Y': 1})"
   ]
  },
  {
   "cell_type": "code",
   "execution_count": 28,
   "metadata": {},
   "outputs": [],
   "source": [
    "collisions_df['INATTENTIONIND'] = collisions_df['INATTENTIONIND'].fillna(0)"
   ]
  },
  {
   "cell_type": "code",
   "execution_count": 29,
   "metadata": {},
   "outputs": [
    {
     "data": {
      "text/plain": [
       "0.0    156174\n",
       "1.0     29164\n",
       "Name: INATTENTIONIND, dtype: int64"
      ]
     },
     "execution_count": 29,
     "metadata": {},
     "output_type": "execute_result"
    }
   ],
   "source": [
    "collisions_df['INATTENTIONIND'].value_counts()"
   ]
  },
  {
   "cell_type": "code",
   "execution_count": 31,
   "metadata": {},
   "outputs": [],
   "source": [
    "#Let's examine column UNDERINFL - Incident when driver was under the influence of drugs/alcohol"
   ]
  },
  {
   "cell_type": "code",
   "execution_count": 32,
   "metadata": {},
   "outputs": [
    {
     "data": {
      "text/plain": [
       "N    97263\n",
       "0    78770\n",
       "Y     5200\n",
       "1     4104\n",
       "Name: UNDERINFL, dtype: int64"
      ]
     },
     "execution_count": 32,
     "metadata": {},
     "output_type": "execute_result"
    }
   ],
   "source": [
    "collisions_df['UNDERINFL'].value_counts()"
   ]
  },
  {
   "cell_type": "code",
   "execution_count": 33,
   "metadata": {},
   "outputs": [],
   "source": [
    "collisions_df['UNDERINFL'] = collisions_df['UNDERINFL'].map({'N': 0, '0': 0, 'Y': 1, '1': 1})"
   ]
  },
  {
   "cell_type": "code",
   "execution_count": 34,
   "metadata": {},
   "outputs": [
    {
     "data": {
      "text/plain": [
       "0.0    176033\n",
       "1.0      9304\n",
       "Name: UNDERINFL, dtype: int64"
      ]
     },
     "execution_count": 34,
     "metadata": {},
     "output_type": "execute_result"
    }
   ],
   "source": [
    "collisions_df['UNDERINFL'].value_counts()"
   ]
  },
  {
   "cell_type": "code",
   "execution_count": 35,
   "metadata": {},
   "outputs": [
    {
     "data": {
      "text/plain": [
       "1"
      ]
     },
     "execution_count": 35,
     "metadata": {},
     "output_type": "execute_result"
    }
   ],
   "source": [
    "collisions_df['UNDERINFL'].isna().sum()"
   ]
  },
  {
   "cell_type": "code",
   "execution_count": 36,
   "metadata": {},
   "outputs": [],
   "source": [
    "collisions_df = collisions_df.dropna(axis=0, subset=['UNDERINFL'])"
   ]
  },
  {
   "cell_type": "code",
   "execution_count": null,
   "metadata": {},
   "outputs": [],
   "source": []
  },
  {
   "cell_type": "code",
   "execution_count": 36,
   "metadata": {},
   "outputs": [],
   "source": [
    "##Let's examine column SPEEDING - Incident when driver was speeding the vehicle"
   ]
  },
  {
   "cell_type": "code",
   "execution_count": 38,
   "metadata": {},
   "outputs": [],
   "source": [
    "collisions_df['SPEEDING'] = collisions_df['SPEEDING'].map({'Y': 1})\n",
    "collisions_df['SPEEDING'].replace(np.nan, 0, inplace=True)"
   ]
  },
  {
   "cell_type": "code",
   "execution_count": 39,
   "metadata": {},
   "outputs": [
    {
     "data": {
      "text/plain": [
       "0.0    176112\n",
       "1.0      9225\n",
       "Name: SPEEDING, dtype: int64"
      ]
     },
     "execution_count": 39,
     "metadata": {},
     "output_type": "execute_result"
    }
   ],
   "source": [
    "collisions_df['SPEEDING'].value_counts()"
   ]
  },
  {
   "cell_type": "code",
   "execution_count": 40,
   "metadata": {},
   "outputs": [],
   "source": [
    "#Let's examine the 3 columns: 'SEGLANEKEY','CROSSWALKKEY','HITPARKEDCAR'"
   ]
  },
  {
   "cell_type": "code",
   "execution_count": 41,
   "metadata": {},
   "outputs": [
    {
     "data": {
      "text/plain": [
       "SEGLANEKEY      2049\n",
       "CROSSWALKKEY    2305\n",
       "HITPARKEDCAR       2\n",
       "dtype: int64"
      ]
     },
     "execution_count": 41,
     "metadata": {},
     "output_type": "execute_result"
    }
   ],
   "source": [
    "collisions_df[['SEGLANEKEY','CROSSWALKKEY','HITPARKEDCAR']].nunique()"
   ]
  },
  {
   "cell_type": "markdown",
   "metadata": {},
   "source": [
    "Features <b>SEGLANEKEY and CROSSWALKKEY</b> have more than 2000 categories, and creating 2000< dummies isn't wise, thus it is safe to exclude them for the further analysis <br>\n",
    "\n",
    "Feature <b>HITPARKEDCAR</b> is a binary feature but this feature is already serving it's purpose in the COLLISIONTYPE - Parked Car, Thus it is safe to exclude this feature for the further analysis</b>"
   ]
  },
  {
   "cell_type": "code",
   "execution_count": 43,
   "metadata": {},
   "outputs": [
    {
     "data": {
      "text/plain": [
       "1     125527\n",
       "2      56498\n",
       "2b      2980\n",
       "3        330\n",
       "0          1\n",
       "Name: SEVERITYCODE, dtype: int64"
      ]
     },
     "execution_count": 43,
     "metadata": {},
     "output_type": "execute_result"
    }
   ],
   "source": [
    "collisions_df['SEVERITYCODE'].value_counts()"
   ]
  },
  {
   "cell_type": "markdown",
   "metadata": {},
   "source": [
    "|SEVERITYCODE|MEANING|         \n",
    "|:-----------:|:---------------:|\n",
    "|1  |\tAccidents resulting in property damage|\n",
    "|2  |\tAccidents resulting in injuries|\n",
    "|2b |\tAccidents resulting in serious injuries|\n",
    "|3\t|   Accidents resulting in fatalities|\n",
    "|0\t|   Data Unavailable i.e. Blanks|"
   ]
  },
  {
   "cell_type": "code",
   "execution_count": 44,
   "metadata": {},
   "outputs": [],
   "source": [
    "#As we can observe there is 1 record whoch doesn't have any data. It's appropriate to drop this record"
   ]
  },
  {
   "cell_type": "code",
   "execution_count": 53,
   "metadata": {},
   "outputs": [],
   "source": [
    "collisions_df = collisions_df[collisions_df.SEVERITYCODE != '0']"
   ]
  },
  {
   "cell_type": "code",
   "execution_count": 54,
   "metadata": {},
   "outputs": [
    {
     "data": {
      "text/plain": [
       "1     125527\n",
       "2      56498\n",
       "2b      2980\n",
       "3        330\n",
       "Name: SEVERITYCODE, dtype: int64"
      ]
     },
     "execution_count": 54,
     "metadata": {},
     "output_type": "execute_result"
    }
   ],
   "source": [
    "collisions_df['SEVERITYCODE'].value_counts()"
   ]
  },
  {
   "cell_type": "markdown",
   "metadata": {},
   "source": [
    "Convert <b>INCDATE</b> to type <b>'datetime'</b>\n",
    "\n",
    "Convert the categorical columns:<br> \n",
    "<b>COLLISIONTYPE, JUNCTIONTYPE, WEATHER, ROADCOND, LIGHTCOND, SPEEDING, UNDERINFL, INATTENTIONIND</b> to datatype <B>'category'</B>"
   ]
  },
  {
   "cell_type": "code",
   "execution_count": 68,
   "metadata": {},
   "outputs": [],
   "source": [
    "collisions_df[\"INCDATE\"] = pd.to_datetime(collisions_df[\"INCDATE\"])"
   ]
  },
  {
   "cell_type": "code",
   "execution_count": 71,
   "metadata": {},
   "outputs": [],
   "source": [
    "cat_cols = ['COLLISIONTYPE','JUNCTIONTYPE','WEATHER','ROADCOND','LIGHTCOND','SPEEDING',\n",
    "            'UNDERINFL','INATTENTIONIND', 'SEVERITYCODE']\n",
    "collisions_df[cat_cols] = collisions_df[cat_cols].astype('category')"
   ]
  },
  {
   "cell_type": "markdown",
   "metadata": {},
   "source": [
    "<H4> LET'S SELECT THE RELEVANT FEATURES AS OUR FINAL CLAEN DATASET FUR FURTHER DATA ANALYSIS</H4>"
   ]
  },
  {
   "cell_type": "code",
   "execution_count": 72,
   "metadata": {},
   "outputs": [],
   "source": [
    "colisn_df = collisions_df[['X','Y','INCDATE','COLLISIONTYPE','JUNCTIONTYPE','WEATHER','ROADCOND','LIGHTCOND','SPEEDING',\n",
    "                           'UNDERINFL','INATTENTIONIND','PERSONCOUNT','PEDCOUNT','PEDCYLCOUNT','VEHCOUNT','INJURIES',\n",
    "                          'SERIOUSINJURIES','FATALITIES','SEVERITYCODE']]"
   ]
  },
  {
   "cell_type": "code",
   "execution_count": 73,
   "metadata": {},
   "outputs": [
    {
     "name": "stdout",
     "output_type": "stream",
     "text": [
      "<class 'pandas.core.frame.DataFrame'>\n",
      "Int64Index: 185335 entries, 0 to 221388\n",
      "Data columns (total 19 columns):\n",
      "X                  185335 non-null float64\n",
      "Y                  185335 non-null float64\n",
      "INCDATE            185335 non-null datetime64[ns]\n",
      "COLLISIONTYPE      185335 non-null category\n",
      "JUNCTIONTYPE       185335 non-null category\n",
      "WEATHER            185335 non-null category\n",
      "ROADCOND           185335 non-null category\n",
      "LIGHTCOND          185335 non-null category\n",
      "SPEEDING           185335 non-null category\n",
      "UNDERINFL          185335 non-null category\n",
      "INATTENTIONIND     185335 non-null category\n",
      "PERSONCOUNT        185335 non-null int64\n",
      "PEDCOUNT           185335 non-null int64\n",
      "PEDCYLCOUNT        185335 non-null int64\n",
      "VEHCOUNT           185335 non-null int64\n",
      "INJURIES           185335 non-null int64\n",
      "SERIOUSINJURIES    185335 non-null int64\n",
      "FATALITIES         185335 non-null int64\n",
      "SEVERITYCODE       185335 non-null category\n",
      "dtypes: category(9), datetime64[ns](1), float64(2), int64(7)\n",
      "memory usage: 17.1 MB\n"
     ]
    }
   ],
   "source": [
    "colisn_df.info()"
   ]
  },
  {
   "cell_type": "code",
   "execution_count": null,
   "metadata": {},
   "outputs": [],
   "source": []
  },
  {
   "cell_type": "code",
   "execution_count": null,
   "metadata": {},
   "outputs": [],
   "source": []
  },
  {
   "cell_type": "code",
   "execution_count": null,
   "metadata": {},
   "outputs": [],
   "source": []
  }
 ],
 "metadata": {
  "kernelspec": {
   "display_name": "Python 3",
   "language": "python",
   "name": "python3"
  },
  "language_info": {
   "codemirror_mode": {
    "name": "ipython",
    "version": 3
   },
   "file_extension": ".py",
   "mimetype": "text/x-python",
   "name": "python",
   "nbconvert_exporter": "python",
   "pygments_lexer": "ipython3",
   "version": "3.7.4"
  }
 },
 "nbformat": 4,
 "nbformat_minor": 2
}
